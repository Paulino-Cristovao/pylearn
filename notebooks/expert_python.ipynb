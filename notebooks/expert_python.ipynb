{
  "cells": [
    {
      "cell_type": "markdown",
      "metadata": {},
      "source": [
        "# Expert-level Python Concepts\n",
        "This notebook covers expert-level Python programming concepts."
      ]
    },
    {
      "cell_type": "markdown",
      "metadata": {},
      "source": [
        "## Metaclasses\n",
        "Metaclasses are a way to define the behavior of classes and how they are created. They allow you to control the creation of classes and modify their behavior."
      ]
    },
    {
      "cell_type": "code",
      "execution_count": 1,
      "metadata": {},
      "outputs": [
        {
          "name": "stdout",
          "output_type": "stream",
          "text": [
            "Creating class MyClass\n"
          ]
        }
      ],
      "source": [
        "# Example of a simple metaclass\n",
        "class Meta(type):\n",
        "    def __new__(cls, name, bases, dct):\n",
        "        print(f'Creating class {name}')\n",
        "        return super().__new__(cls, name, bases, dct)\n",
        "\n",
        "class MyClass(metaclass=Meta):\n",
        "    pass\n",
        "\n",
        "# Creating an instance of MyClass\n",
        "instance = MyClass()"
      ]
    },
    {
      "cell_type": "code",
      "execution_count": 6,
      "metadata": {},
      "outputs": [
        {
          "name": "stderr",
          "output_type": "stream",
          "text": [
            "/var/folders/33/g1wrz1gd049_m1fjrmn1r37c0000gn/T/ipykernel_36645/2964541033.py:13: RuntimeWarning: coroutine 'main' was never awaited\n",
            "  asyncio.run(main())\n",
            "RuntimeWarning: Enable tracemalloc to get the object allocation traceback\n"
          ]
        }
      ],
      "source": [
        "import asyncio\n",
        "\n",
        "async def main():\n",
        "    # Your async code here\n",
        "    pass\n",
        "\n",
        "try:\n",
        "    asyncio.run(main())\n",
        "except RuntimeError as e:\n",
        "    if 'asyncio.run() cannot be called from a running event loop' in str(e):\n",
        "        import nest_asyncio\n",
        "        nest_asyncio.apply()\n",
        "        asyncio.run(main())\n",
        "    else:\n",
        "        raise\n"
      ]
    },
    {
      "cell_type": "code",
      "execution_count": null,
      "metadata": {},
      "outputs": [],
      "source": []
    },
    {
      "cell_type": "code",
      "execution_count": null,
      "metadata": {},
      "outputs": [],
      "source": []
    },
    {
      "cell_type": "code",
      "execution_count": null,
      "metadata": {},
      "outputs": [],
      "source": []
    },
    {
      "cell_type": "code",
      "execution_count": null,
      "metadata": {},
      "outputs": [],
      "source": []
    },
    {
      "cell_type": "code",
      "execution_count": null,
      "metadata": {},
      "outputs": [],
      "source": []
    }
  ],
  "metadata": {
    "kernelspec": {
      "display_name": "py-learn",
      "language": "python",
      "name": "python3"
    },
    "language_info": {
      "codemirror_mode": {
        "name": "ipython",
        "version": 3
      },
      "file_extension": ".py",
      "mimetype": "text/x-python",
      "name": "python",
      "nbconvert_exporter": "python",
      "pygments_lexer": "ipython3",
      "version": "3.12.8"
    }
  },
  "nbformat": 4,
  "nbformat_minor": 2
}
