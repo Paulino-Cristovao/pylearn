{
 "cells": [
  {
   "cell_type": "markdown",
   "metadata": {},
   "source": [
    "# Basics of Python\n",
    "This notebook covers the basics of Python programming."
   ]
  },
  {
   "cell_type": "markdown",
   "metadata": {},
   "source": [
    "1. Variables and Data Types\n",
    "Explanation: Introduce integers, floats, strings, and booleans. Explain dynamic typing in Python."
   ]
  },
  {
   "cell_type": "code",
   "execution_count": 1,
   "metadata": {},
   "outputs": [],
   "source": [
    "name: str = \"Paloma\"\n",
    "age: int = 20 \n",
    "height: float = 1.70"
   ]
  },
  {
   "cell_type": "code",
   "execution_count": 2,
   "metadata": {},
   "outputs": [],
   "source": [
    "def greet_user(name: str) -> str:\n",
    "    \"\"\"\n",
    "    Greet a user with their name.\n",
    "    Args:\n",
    "        name: str: the name of the user.\n",
    "\n",
    "    Returns: \n",
    "        str: a greeting message.   \n",
    "    \"\"\"\n",
    "    return f\"Hello, {name}!\""
   ]
  },
  {
   "cell_type": "code",
   "execution_count": 3,
   "metadata": {},
   "outputs": [
    {
     "name": "stdout",
     "output_type": "stream",
     "text": [
      "Hello, Paloma!\n"
     ]
    }
   ],
   "source": [
    "greeting=greet_user(name)\n",
    "print(greeting)"
   ]
  },
  {
   "cell_type": "code",
   "execution_count": 6,
   "metadata": {},
   "outputs": [],
   "source": [
    "# Example of a function that takes multiple arguments\n",
    "def greet_user_with_age(name: str, age: int) -> str:\n",
    "    \"\"\"\n",
    "    Greet a user with their name and age.\n",
    "    Args:\n",
    "        name: str: the name of the user.\n",
    "        age: int: the age of the user.\n",
    "\n",
    "    Returns: \n",
    "        str: a greeting message.   \n",
    "    \"\"\"\n",
    "    return f\"Hello, {name}! You are {age} years old.\""
   ]
  },
  {
   "cell_type": "code",
   "execution_count": 8,
   "metadata": {},
   "outputs": [
    {
     "name": "stdout",
     "output_type": "stream",
     "text": [
      "Hello, Paloma! You are 20 years old.\n"
     ]
    }
   ],
   "source": [
    "greeting_user_with_age=greet_user_with_age(name, age)\n",
    "print(greeting_user_with_age)"
   ]
  },
  {
   "cell_type": "code",
   "execution_count": 11,
   "metadata": {},
   "outputs": [],
   "source": [
    "# Example of a function that returns a value\n",
    "def calculate_days(age: int) -> int:\n",
    "    \"\"\"\n",
    "    Calculate the number of days the user has lived.\n",
    "    Args:\n",
    "        age: int: the age of the user.\n",
    "\n",
    "    Returns: \n",
    "        int: the number of days the user has lived.   \n",
    "    \"\"\"\n",
    "    return age * 365"
   ]
  },
  {
   "cell_type": "code",
   "execution_count": 12,
   "metadata": {},
   "outputs": [
    {
     "name": "stdout",
     "output_type": "stream",
     "text": [
      "13870\n"
     ]
    }
   ],
   "source": [
    "age: int = 38 \n",
    "days: int = calculate_days(age)\n",
    "print(days)"
   ]
  },
  {
   "cell_type": "code",
   "execution_count": 13,
   "metadata": {},
   "outputs": [
    {
     "name": "stdout",
     "output_type": "stream",
     "text": [
      "<class 'str'>\n"
     ]
    }
   ],
   "source": [
    "# Check data types \n",
    "variable: str = \"Hello\"\n",
    "print(type(variable))"
   ]
  },
  {
   "cell_type": "code",
   "execution_count": 15,
   "metadata": {},
   "outputs": [
    {
     "name": "stdout",
     "output_type": "stream",
     "text": [
      "52.5\n"
     ]
    }
   ],
   "source": [
    "# Type converison\n",
    "price: float = 10.5\n",
    "quantity: int = 5 \n",
    "total_cost: str = str(price * quantity) \n",
    "print(total_cost)"
   ]
  },
  {
   "cell_type": "code",
   "execution_count": 16,
   "metadata": {},
   "outputs": [
    {
     "name": "stdout",
     "output_type": "stream",
     "text": [
      "Hello, Paloma!\n"
     ]
    }
   ],
   "source": [
    "# User input \n",
    "name: str = input(\"What is your name? \")\n",
    "print(f\"Hello, {name}!\")"
   ]
  },
  {
   "cell_type": "code",
   "execution_count": null,
   "metadata": {},
   "outputs": [],
   "source": [
    "# Input Validation \n",
    "age: str = input(\"What is your age? \")\n",
    "if age.isdigit():\n",
    "    age: int = int(age)\n",
    "    print(f\"You are {age} years old.\")\n",
    "else:\n",
    "    print(\"Invalid age input. Please enter a number.\")"
   ]
  },
  {
   "cell_type": "code",
   "execution_count": 17,
   "metadata": {},
   "outputs": [
    {
     "name": "stdout",
     "output_type": "stream",
     "text": [
      "This is a paragraph.\n",
      "It has multiple lines.\n",
      "\n"
     ]
    }
   ],
   "source": [
    "# multi-line input \n",
    "paragraph: str = \"\"\"This is a paragraph.\n",
    "It has multiple lines.\n",
    "\"\"\"\n",
    "print(paragraph)"
   ]
  },
  {
   "cell_type": "code",
   "execution_count": 18,
   "metadata": {},
   "outputs": [
    {
     "name": "stdout",
     "output_type": "stream",
     "text": [
      "True\n"
     ]
    }
   ],
   "source": [
    "# Basic Arithmetic and Operators \n",
    "number: int = 10 \n",
    "is_even: bool = number % 2 == 0\n",
    "print(is_even)"
   ]
  },
  {
   "cell_type": "code",
   "execution_count": 19,
   "metadata": {},
   "outputs": [
    {
     "name": "stdout",
     "output_type": "stream",
     "text": [
      "60 seconds is equal to 0 hours and 1 minutes.\n"
     ]
    }
   ],
   "source": [
    "tottal_seconds: int = 60\n",
    "hours: int = tottal_seconds // 3600\n",
    "minutes: int = (tottal_seconds % 3600) // 60 \n",
    "print(f\"{tottal_seconds} seconds is equal to {hours} hours and {minutes} minutes.\")"
   ]
  },
  {
   "cell_type": "code",
   "execution_count": 20,
   "metadata": {},
   "outputs": [],
   "source": [
    "# Exponentiation\n",
    "def square_number(number: int) -> int:\n",
    "    \"\"\"\n",
    "    Calculate the square of a number.\n",
    "    Args:\n",
    "        number: int: the number to square.\n",
    "\n",
    "    Returns: \n",
    "        int: the square of the number.   \n",
    "    \"\"\"\n",
    "    return number ** 2"
   ]
  },
  {
   "cell_type": "code",
   "execution_count": 21,
   "metadata": {},
   "outputs": [
    {
     "name": "stdout",
     "output_type": "stream",
     "text": [
      "25\n"
     ]
    }
   ],
   "source": [
    "print(square_number(5))"
   ]
  },
  {
   "cell_type": "code",
   "execution_count": 22,
   "metadata": {},
   "outputs": [],
   "source": [
    "# Real-world discount calculation \n",
    "def calculate_discounted_price(price: float, discount: float) -> float:\n",
    "    \"\"\"\n",
    "    Calculate the discounted price of an item.\n",
    "    Args:\n",
    "        price: float: the original price of the item.\n",
    "        discount: float: the discount percentage.\n",
    "\n",
    "    Returns: \n",
    "        float: the discounted price of the item.   \n",
    "    \"\"\"\n",
    "    return price - (price * discount / 100)"
   ]
  },
  {
   "cell_type": "code",
   "execution_count": 23,
   "metadata": {},
   "outputs": [
    {
     "name": "stdout",
     "output_type": "stream",
     "text": [
      "80.0\n"
     ]
    }
   ],
   "source": [
    "original_price: float = 100\n",
    "discount_rate: float = 20\n",
    "final_price: float = calculate_discounted_price(original_price, discount_rate) \n",
    "print(final_price)"
   ]
  },
  {
   "cell_type": "code",
   "execution_count": 24,
   "metadata": {},
   "outputs": [],
   "source": [
    "#Simple interest calculation\n",
    "def simple_interest(principal: float, rate: float, time: float) -> float:\n",
    "    \"\"\"\n",
    "    Calculate the simple interest.\n",
    "    Args:\n",
    "        principal: float: the principal amount.\n",
    "        rate: float: the interest rate.\n",
    "        time: float: the time period.\n",
    "\n",
    "    Returns: \n",
    "        float: the simple interest.   \n",
    "    \"\"\"\n",
    "    return principal * rate * time"
   ]
  },
  {
   "cell_type": "code",
   "execution_count": 25,
   "metadata": {},
   "outputs": [
    {
     "name": "stdout",
     "output_type": "stream",
     "text": [
      "100.0\n"
     ]
    }
   ],
   "source": [
    "print(simple_interest(1000, 0.05, 2))"
   ]
  },
  {
   "cell_type": "code",
   "execution_count": 27,
   "metadata": {},
   "outputs": [
    {
     "name": "stdout",
     "output_type": "stream",
     "text": [
      "Reversed name : amolaP\n"
     ]
    }
   ],
   "source": [
    "# Strings and String methods \n",
    "name: str = \"Paloma\"\n",
    "reversed_name = name[::-1]\n",
    "print(f\"Reversed name : {reversed_name}\")"
   ]
  },
  {
   "cell_type": "code",
   "execution_count": 28,
   "metadata": {},
   "outputs": [
    {
     "name": "stdout",
     "output_type": "stream",
     "text": [
      "Keep up the great work learning Python!\n"
     ]
    }
   ],
   "source": [
    "# Print a nice message\n",
    "print(\"Keep up the great work learning Python!\")"
   ]
  },
  {
   "cell_type": "code",
   "execution_count": 29,
   "metadata": {},
   "outputs": [
    {
     "name": "stdout",
     "output_type": "stream",
     "text": [
      "Contains 'Python': True\n"
     ]
    }
   ],
   "source": [
    "# String searching \n",
    "text = \"Python is a popular programming language.\" \n",
    "contains: bool = \"Python\" in text \n",
    "print(f\"Contains 'Python': {contains}\")"
   ]
  },
  {
   "cell_type": "code",
   "execution_count": 30,
   "metadata": {},
   "outputs": [],
   "source": [
    "# Palindrome checking\n",
    "def is_palindrome(text: str) -> bool:\n",
    "    \"\"\"\n",
    "    Check if a text is a palindrome.\n",
    "    Args:\n",
    "        text: str: the text to check.\n",
    "\n",
    "    Returns: \n",
    "        bool: True if the text is a palindrome, False otherwise.   \n",
    "    \"\"\"\n",
    "    return text == text[::-1]"
   ]
  },
  {
   "cell_type": "code",
   "execution_count": 31,
   "metadata": {},
   "outputs": [
    {
     "name": "stdout",
     "output_type": "stream",
     "text": [
      "True\n",
      "False\n"
     ]
    }
   ],
   "source": [
    "print(is_palindrome(\"radar\"))\n",
    "print(is_palindrome(\"hello\"))"
   ]
  },
  {
   "cell_type": "code",
   "execution_count": 32,
   "metadata": {},
   "outputs": [],
   "source": [
    "# Word count \n",
    "def word_count(text: str) -> int:\n",
    "    \"\"\"\n",
    "    Count the number of words in a text.\n",
    "    Args:\n",
    "        text: str: the text to count.\n",
    "\n",
    "    Returns: \n",
    "        int: the number of words in the text.   \n",
    "    \"\"\"\n",
    "    return len(text.split())"
   ]
  },
  {
   "cell_type": "code",
   "execution_count": 33,
   "metadata": {},
   "outputs": [
    {
     "name": "stdout",
     "output_type": "stream",
     "text": [
      "6\n"
     ]
    }
   ],
   "source": [
    "print(word_count(\"Python is a popular programming language.\"))"
   ]
  },
  {
   "cell_type": "code",
   "execution_count": 34,
   "metadata": {},
   "outputs": [],
   "source": [
    "# Extract Email Domain \n",
    "def extract_email_domain(email: str) -> str:\n",
    "    \"\"\"\n",
    "    Extract the domain from an email address.\n",
    "    Args:\n",
    "        email: str: the email address.\n",
    "\n",
    "    Returns: \n",
    "        str: the domain of the email address.   \n",
    "    \"\"\"\n",
    "    return email.split(\"@\")[1]"
   ]
  },
  {
   "cell_type": "code",
   "execution_count": 35,
   "metadata": {},
   "outputs": [
    {
     "name": "stdout",
     "output_type": "stream",
     "text": [
      "Domain: gmail.com\n"
     ]
    }
   ],
   "source": [
    "email: str = \"example@gmail.com\" \n",
    "domain: str = extract_email_domain(email) \n",
    "print(f\"Domain: {domain}\")"
   ]
  },
  {
   "cell_type": "code",
   "execution_count": 36,
   "metadata": {},
   "outputs": [],
   "source": [
    "# Control flow \n",
    "def check_even_odd(number: int) -> str:\n",
    "    \"\"\"\n",
    "    Check if a number is even or odd.\n",
    "    Args:\n",
    "        number: int: the number to check.\n",
    "\n",
    "    Returns: \n",
    "        str: 'even' if the number is even, 'odd' otherwise.   \n",
    "    \"\"\"\n",
    "    if number % 2 == 0:\n",
    "        return \"even\"\n",
    "    else:\n",
    "        return \"odd\"\n"
   ]
  },
  {
   "cell_type": "code",
   "execution_count": 39,
   "metadata": {},
   "outputs": [
    {
     "name": "stdout",
     "output_type": "stream",
     "text": [
      "odd\n",
      "even\n"
     ]
    }
   ],
   "source": [
    "print(check_even_odd(5))\n",
    "print(check_even_odd(10))"
   ]
  },
  {
   "cell_type": "code",
   "execution_count": 40,
   "metadata": {},
   "outputs": [],
   "source": [
    "# Nested conditions\n",
    "def categorize_age(age: int) ->str:\n",
    "    \"\"\"Categorize age into groups.\"\"\"\n",
    "    if age < 18:\n",
    "        return \"Minor\"\n",
    "    elif age < 65:\n",
    "        return \"Adult\"\n",
    "    else:\n",
    "        return \"Senior\" "
   ]
  },
  {
   "cell_type": "code",
   "execution_count": 41,
   "metadata": {},
   "outputs": [
    {
     "name": "stdout",
     "output_type": "stream",
     "text": [
      "Adult\n"
     ]
    }
   ],
   "source": [
    "print(categorize_age(38))"
   ]
  },
  {
   "cell_type": "code",
   "execution_count": 42,
   "metadata": {},
   "outputs": [
    {
     "name": "stdout",
     "output_type": "stream",
     "text": [
      "even\n"
     ]
    }
   ],
   "source": [
    "number: int = 10 \n",
    "result: str = \"even\" if number % 2 == 0 else \"odd\"\n",
    "print(result)"
   ]
  },
  {
   "cell_type": "code",
   "execution_count": 43,
   "metadata": {},
   "outputs": [],
   "source": [
    "# Membership test \n",
    "def is_frut(fruit: str) -> bool:\n",
    "    \"\"\"Check if a fruit is in the list.\"\"\"\n",
    "    fruits = [\"apple\", \"banana\", \"cherry\"]\n",
    "    return fruit in fruits "
   ]
  },
  {
   "cell_type": "code",
   "execution_count": 45,
   "metadata": {},
   "outputs": [
    {
     "name": "stdout",
     "output_type": "stream",
     "text": [
      "True\n",
      "False\n"
     ]
    }
   ],
   "source": [
    "print(is_frut(\"apple\"))\n",
    "print(is_frut(\"Strawberry\"))"
   ]
  },
  {
   "cell_type": "code",
   "execution_count": 46,
   "metadata": {},
   "outputs": [
    {
     "name": "stdout",
     "output_type": "stream",
     "text": [
      "You get a discount!\n"
     ]
    }
   ],
   "source": [
    "# Logical operators \n",
    "age: int = 25\n",
    "is_student: bool = True \n",
    "message: str = \"You get a discount!\" if age < 18 or is_student else \"You pay the full price.\"\n",
    "print(message)"
   ]
  },
  {
   "cell_type": "code",
   "execution_count": 47,
   "metadata": {},
   "outputs": [
    {
     "name": "stdout",
     "output_type": "stream",
     "text": [
      "You get a discount!\n"
     ]
    }
   ],
   "source": [
    "# Logical operators \n",
    "age: int = 25\n",
    "is_student: bool = True \n",
    "if age < 18 or is_student:\n",
    "    print(\"You get a discount!\") \n",
    "else:\n",
    "    print(\"You pay the full price.\") "
   ]
  },
  {
   "cell_type": "code",
   "execution_count": 48,
   "metadata": {},
   "outputs": [],
   "source": [
    "# Loops (for and while)\n",
    "def print_squares(n: int) -> None:\n",
    "    \"\"\"Print squares of numbers from 1 to n.\"\"\"\n",
    "    for i in range(1, n + 1):\n",
    "        print(f\"Square of {i}: {i ** 2}\")"
   ]
  },
  {
   "cell_type": "code",
   "execution_count": 49,
   "metadata": {},
   "outputs": [
    {
     "name": "stdout",
     "output_type": "stream",
     "text": [
      "Square of 1: 1\n",
      "Square of 2: 4\n",
      "Square of 3: 9\n",
      "Square of 4: 16\n",
      "Square of 5: 25\n"
     ]
    }
   ],
   "source": [
    "print_squares(5)"
   ]
  },
  {
   "cell_type": "code",
   "execution_count": 50,
   "metadata": {},
   "outputs": [],
   "source": [
    "# while loop\n",
    "def countdown(n: int) -> None:\n",
    "    \"\"\"Countdown from n to 0.\"\"\"\n",
    "    while n >= 0:\n",
    "        print(n)\n",
    "        n -= 1 "
   ]
  },
  {
   "cell_type": "code",
   "execution_count": 51,
   "metadata": {},
   "outputs": [
    {
     "name": "stdout",
     "output_type": "stream",
     "text": [
      "5\n",
      "4\n",
      "3\n",
      "2\n",
      "1\n",
      "0\n"
     ]
    }
   ],
   "source": [
    "countdown(5)"
   ]
  },
  {
   "cell_type": "code",
   "execution_count": 52,
   "metadata": {},
   "outputs": [
    {
     "name": "stdout",
     "output_type": "stream",
     "text": [
      "1\n",
      "3\n"
     ]
    }
   ],
   "source": [
    "# break and continue\n",
    "for i in range(10):\n",
    "    if i == 5:\n",
    "        break\n",
    "    elif i % 2 == 0:\n",
    "        continue\n",
    "    print(i)\n"
   ]
  },
  {
   "cell_type": "code",
   "execution_count": 53,
   "metadata": {},
   "outputs": [
    {
     "name": "stdout",
     "output_type": "stream",
     "text": [
      "(0, 0)\n",
      "(0, 1)\n",
      "(1, 0)\n",
      "(1, 1)\n",
      "(2, 0)\n",
      "(2, 1)\n"
     ]
    }
   ],
   "source": [
    "# Nested Loops \n",
    "print('\\n'.join([f\"({i}, {j})\" for i in range(3) for j in range(2)]))"
   ]
  },
  {
   "cell_type": "code",
   "execution_count": 54,
   "metadata": {},
   "outputs": [
    {
     "name": "stdout",
     "output_type": "stream",
     "text": [
      "(0, 0)\n",
      "(0, 1)\n",
      "(1, 0)\n",
      "(1, 1)\n",
      "(2, 0)\n",
      "(2, 1)\n"
     ]
    }
   ],
   "source": [
    "# Nested Loops \n",
    "for i in range(3):\n",
    "    for j in range(2):\n",
    "        print(f\"({i}, {j})\")"
   ]
  },
  {
   "cell_type": "code",
   "execution_count": 55,
   "metadata": {},
   "outputs": [],
   "source": [
    "# Sum of digits \n",
    "number: int = 12345 \n",
    "digit_sum: int = 0 \n",
    "\n",
    "while number > 0:\n",
    "    digit_sum += number % 10\n",
    "    number //= 10 "
   ]
  },
  {
   "cell_type": "code",
   "execution_count": 56,
   "metadata": {},
   "outputs": [
    {
     "name": "stdout",
     "output_type": "stream",
     "text": [
      "Sum of digits: 15\n"
     ]
    }
   ],
   "source": [
    "print(f\"Sum of digits: {digit_sum}\")"
   ]
  },
  {
   "cell_type": "code",
   "execution_count": 1,
   "metadata": {},
   "outputs": [],
   "source": [
    "# Functions with default arguments\n",
    "def greet(name: str = \"World\") -> str:\n",
    "    \"\"\"Greet a person.\"\"\"\n",
    "    return f\"Hello, {name}!\""
   ]
  },
  {
   "cell_type": "code",
   "execution_count": 3,
   "metadata": {},
   "outputs": [
    {
     "name": "stdout",
     "output_type": "stream",
     "text": [
      "Hello, World!\n",
      "Hello, Paloma!\n"
     ]
    }
   ],
   "source": [
    "print(greet())\n",
    "print(greet(\"Paloma\"))"
   ]
  },
  {
   "cell_type": "code",
   "execution_count": 4,
   "metadata": {},
   "outputs": [],
   "source": [
    "# describe a person \n",
    "def describe_person(name: str, age: int, city: float) -> str:\n",
    "    \"\"\"Describe a person.\"\"\"\n",
    "    return f\"{name} is {age} years old and live  in {city}.\""
   ]
  },
  {
   "cell_type": "code",
   "execution_count": 5,
   "metadata": {},
   "outputs": [
    {
     "name": "stdout",
     "output_type": "stream",
     "text": [
      "Paloma is 20 years old and live  in New York.\n"
     ]
    }
   ],
   "source": [
    "print(describe_person(\"Paloma\", 20, \"New York\"))"
   ]
  },
  {
   "cell_type": "code",
   "execution_count": 6,
   "metadata": {},
   "outputs": [],
   "source": [
    "# calculate area  \n",
    "def calculate_area(shape: str, width: float, height: float) -> float:\n",
    "    \"\"\"Calculate the area of a shape.\"\"\"\n",
    "    if shape == \"rectangle\":\n",
    "        return width * height\n",
    "    elif shape == \"triangle\":\n",
    "        return 0.5 * width * height\n",
    "    else:\n",
    "        raise ValueError(\"Invalid shape\") "
   ]
  },
  {
   "cell_type": "code",
   "execution_count": 7,
   "metadata": {},
   "outputs": [
    {
     "name": "stdout",
     "output_type": "stream",
     "text": [
      "50\n"
     ]
    }
   ],
   "source": [
    "print(calculate_area(\"rectangle\", 5, 10))"
   ]
  },
  {
   "cell_type": "code",
   "execution_count": 8,
   "metadata": {},
   "outputs": [
    {
     "name": "stdout",
     "output_type": "stream",
     "text": [
      "[1, 4, 9, 16, 25]\n"
     ]
    }
   ],
   "source": [
    "# List and Tuples \n",
    "squares: list[int]  = [1, 4, 9, 16, 25] \n",
    "print(squares) "
   ]
  },
  {
   "cell_type": "code",
   "execution_count": 9,
   "metadata": {},
   "outputs": [
    {
     "name": "stdout",
     "output_type": "stream",
     "text": [
      "[1, 4, 9, 16, 25]\n"
     ]
    }
   ],
   "source": [
    "# Sorting a list comprehension\n",
    "squares: list[int]  = [1, 4, 9, 16, 25] \n",
    "print(sorted(squares)) "
   ]
  },
  {
   "cell_type": "code",
   "execution_count": 10,
   "metadata": {},
   "outputs": [
    {
     "name": "stdout",
     "output_type": "stream",
     "text": [
      "[1, 4, 9, 16, 25]\n"
     ]
    }
   ],
   "source": [
    "squares: list[int]  = [1, 4, 9, 16, 25] \n",
    "print([x ** 2 for x in range(1, 6)])"
   ]
  },
  {
   "cell_type": "code",
   "execution_count": 11,
   "metadata": {},
   "outputs": [
    {
     "name": "stdout",
     "output_type": "stream",
     "text": [
      "['Charlie', 'Bob', 'Alice']\n"
     ]
    }
   ],
   "source": [
    "names: list[str] = [\"Alice\", \"Bob\", \"Charlie\"] \n",
    "names.sort(reverse=True)\n",
    "print(names)"
   ]
  },
  {
   "cell_type": "code",
   "execution_count": 12,
   "metadata": {},
   "outputs": [
    {
     "name": "stdout",
     "output_type": "stream",
     "text": [
      "3 4\n"
     ]
    }
   ],
   "source": [
    "# Tuple Unpacking \n",
    "coordinates: tuple[int, int] = (3, 4)\n",
    "x, y = coordinates\n",
    "print(x, y)"
   ]
  },
  {
   "cell_type": "code",
   "execution_count": 13,
   "metadata": {},
   "outputs": [
    {
     "name": "stdout",
     "output_type": "stream",
     "text": [
      "[('Alice', 25), ('Bob', 30), ('Charlie', 35)]\n"
     ]
    }
   ],
   "source": [
    "names: str = [\"Alice\", \"Bob\", \"Charlie\"]\n",
    "ages: int = [25, 30, 35] \n",
    "combined = list(zip(names, ages)) \n",
    "print(combined)"
   ]
  },
  {
   "cell_type": "code",
   "execution_count": null,
   "metadata": {},
   "outputs": [],
   "source": [
    "#"
   ]
  },
  {
   "cell_type": "code",
   "execution_count": null,
   "metadata": {},
   "outputs": [],
   "source": [
    "#"
   ]
  }
 ],
 "metadata": {
  "kernelspec": {
   "display_name": "py-learn",
   "language": "python",
   "name": "python3"
  },
  "language_info": {
   "codemirror_mode": {
    "name": "ipython",
    "version": 3
   },
   "file_extension": ".py",
   "mimetype": "text/x-python",
   "name": "python",
   "nbconvert_exporter": "python",
   "pygments_lexer": "ipython3",
   "version": "3.12.8"
  }
 },
 "nbformat": 4,
 "nbformat_minor": 2
}
