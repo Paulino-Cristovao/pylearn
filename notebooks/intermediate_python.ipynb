{
  "cells": [
    {
      "cell_type": "markdown",
      "metadata": {},
      "source": [
        "# Intermediate Python Concepts\n",
        "This notebook covers intermediate Python programming concepts."
      ]
    },
    {
      "cell_type": "markdown",
      "metadata": {},
      "source": [
        "## List Comprehensions\n",
        "List comprehensions provide a concise way to create lists. Common applications are to make new lists where each element is the result of some operations applied to each member of another sequence or iterable."
      ]
    },
    {
      "cell_type": "code",
      "execution_count": 1,
      "metadata": {},
      "outputs": [
        {
          "name": "stdout",
          "output_type": "stream",
          "text": [
            "{'Joel': 90, 'Tim': 95}\n"
          ]
        }
      ],
      "source": [
        "# Dictionaries \n",
        "grades: dict[str, int] = {\"Joel\": 80, \"Tim\": 95}\n",
        "grades[\"Joel\"] = 90\n",
        "print(grades)"
      ]
    },
    {
      "cell_type": "code",
      "execution_count": 3,
      "metadata": {},
      "outputs": [
        {
          "name": "stdout",
          "output_type": "stream",
          "text": [
            "{'Joel': 90, 'Tim': 95, 'Kate': 100}\n"
          ]
        }
      ],
      "source": [
        "grades[\"Kate\"] = 100\n",
        "print(grades)"
      ]
    },
    {
      "cell_type": "code",
      "execution_count": 4,
      "metadata": {},
      "outputs": [],
      "source": [
        "# File Handling \n",
        "with open(\"test.txt\", \"w\") as file:\n",
        "    file.write(\"Hello, World!\")"
      ]
    },
    {
      "cell_type": "code",
      "execution_count": 6,
      "metadata": {},
      "outputs": [
        {
          "name": "stdout",
          "output_type": "stream",
          "text": [
            "File written successfully.\n"
          ]
        }
      ],
      "source": [
        "print(\"File written successfully.\")"
      ]
    },
    {
      "cell_type": "code",
      "execution_count": null,
      "metadata": {},
      "outputs": [],
      "source": [
        "print(\"This is an example of showing text in a code cell.\")"
      ]
    },
    {
      "cell_type": "code",
      "execution_count": 7,
      "metadata": {},
      "outputs": [
        {
          "name": "stdout",
          "output_type": "stream",
          "text": [
            "Hello, World!\n"
          ]
        }
      ],
      "source": [
        "# Read from the file and print its contents\n",
        "with open(\"test.txt\", \"r\") as file:\n",
        "    content = file.read()\n",
        "    print(content)"
      ]
    },
    {
      "cell_type": "code",
      "execution_count": 8,
      "metadata": {},
      "outputs": [],
      "source": [
        "# Append data to the file without overwriting\n",
        "with open(\"test.txt\", \"a\") as file:\n",
        "    file.write(\"\\nAppending new data.\")"
      ]
    },
    {
      "cell_type": "code",
      "execution_count": 9,
      "metadata": {},
      "outputs": [
        {
          "name": "stdout",
          "output_type": "stream",
          "text": [
            "Hello, World!\n",
            "Appending new data.\n"
          ]
        }
      ],
      "source": [
        "# Read from the file again and print its contents\n",
        "with open(\"test.txt\", \"r\") as file:\n",
        "    content = file.read()\n",
        "    print(content)"
      ]
    },
    {
      "cell_type": "code",
      "execution_count": 10,
      "metadata": {},
      "outputs": [
        {
          "name": "stdout",
          "output_type": "stream",
          "text": [
            "Hello, World!\n",
            "Appending new data.\n"
          ]
        }
      ],
      "source": [
        "# Error handling \n",
        "try:\n",
        "    with open(\"test.txt\", \"r\") as file:\n",
        "        content = file.read()\n",
        "        print(content)\n",
        "except FileNotFoundError:\n",
        "    print(\"File not found.\")"
      ]
    },
    {
      "cell_type": "code",
      "execution_count": 11,
      "metadata": {},
      "outputs": [],
      "source": [
        "# Object-Oriented Programming (OOP)\n",
        "class Person:\n",
        "    \"\"\"\n",
        "    Represents a person with a name and age.\n",
        "    \"\"\"\n",
        "    def __init__(self, name: str, age: int) -> None:\n",
        "        self.name = name\n",
        "        self.age = age \n",
        "\n",
        "    def say_hello(self) -> None:\n",
        "        print(f\"Hello, my name is {self.name} and I am {self.age} years old.\")"
      ]
    },
    {
      "cell_type": "code",
      "execution_count": 12,
      "metadata": {},
      "outputs": [
        {
          "name": "stdout",
          "output_type": "stream",
          "text": [
            "Alice\n",
            "25\n"
          ]
        }
      ],
      "source": [
        "person = Person(\"Alice\", 25)\n",
        "person.say_hello() "
      ]
    },
    {
      "cell_type": "code",
      "execution_count": 16,
      "metadata": {},
      "outputs": [
        {
          "name": "stdout",
          "output_type": "stream",
          "text": [
            "{'a': 1, 'b': 3, 'c': 4}\n"
          ]
        }
      ],
      "source": [
        "# Object-Oriented Programming (OOP) with Data Classes\n",
        "from dataclasses import dataclass\n",
        "\n",
        "@dataclass\n",
        "class Person:\n",
        "    name: str\n",
        "    age: int\n",
        "\n",
        "    def say_hello(self) -> None:\n",
        "        print(f\"Hello, my name is {self.name} and I am {self.age} years old.\")"
      ]
    },
    {
      "cell_type": "code",
      "execution_count": 17,
      "metadata": {},
      "outputs": [
        {
          "name": "stdout",
          "output_type": "stream",
          "text": [
            "{0: 0, 1: 1, 2: 4, 3: 9, 4: 16}\n"
          ]
        }
      ],
      "source": [
        "# Object-Oriented Programming (OOP)\n",
        "class Person:\n",
        "    \"\"\"\n",
        "    Represents a person with a name and age.\n",
        "    \"\"\"\n",
        "    def __init__(self, name: str, age: int) -> None:\n",
        "        self.name = name\n",
        "        self.age = age \n",
        "\n",
        "    def say_hello(self) -> None:\n",
        "        print(f\"Hello, my name is {self.name} and I am {self.age} years old.\")"
      ]
    },
    {
      "cell_type": "code",
      "execution_count": 30,
      "metadata": {},
      "outputs": [
        {
          "name": "stdout",
          "output_type": "stream",
          "text": [
            "Alice\n",
            "25\n"
          ]
        }
      ],
      "source": [
        "# Basic class inheritance\n",
        "class Person:\n",
        "    def __init__(self, name: str, age: int) -> None:\n",
        "        self.name = name\n",
        "        self.age = age\n",
        "    \n",
        "    def greet(self) -> None:\n",
        "        print(f\"Hello, my name is {self.name} and I am {self.age} years old.\")\n",
        "\n",
        "\n",
        "person = Person(\"Alice\", 25)\n",
        "print(person.name)\n",
        "print(person.age)"
      ]
    },
    {
      "cell_type": "code",
      "execution_count": 31,
      "metadata": {},
      "outputs": [
        {
          "name": "stdout",
          "output_type": "stream",
          "text": [
            "2\n"
          ]
        }
      ],
      "source": [
        "class Counter: \n",
        "    count = 0 # Class variable\n",
        "\n",
        "    def __init__(self):\n",
        "        Counter.count += 1 # Access class variable using the class name\n",
        "\n",
        "c1 = Counter()\n",
        "c2 = Counter() \n",
        "print(Counter.count) # Output: 2"
      ]
    },
    {
      "cell_type": "code",
      "execution_count": 33,
      "metadata": {},
      "outputs": [
        {
          "name": "stdout",
          "output_type": "stream",
          "text": [
            "Animal speaks.\n"
          ]
        }
      ],
      "source": [
        "# Inheritance\n",
        "class Animal:\n",
        "    def speak(self):\n",
        "        return \"Animal speaks.\"\n",
        "    \n",
        "class Dog(Animal):\n",
        "    def bark(self):\n",
        "        return \"Dog barks.\"\n",
        "\n",
        "\n",
        "dog = Dog()\n",
        "print(dog.speak()) # Output: Animal speaks."
      ]
    },
    {
      "cell_type": "code",
      "execution_count": 35,
      "metadata": {},
      "outputs": [
        {
          "name": "stdout",
          "output_type": "stream",
          "text": [
            "3\n",
            "2\n"
          ]
        }
      ],
      "source": [
        "# Static methods \n",
        "class Math:\n",
        "    @staticmethod\n",
        "    def add(x: int, y: int) -> int:\n",
        "        return x + y\n",
        "    \n",
        "    @staticmethod\n",
        "    def multiply(x: int, y: int) -> int:\n",
        "        return x * y\n",
        "    \n",
        "\n",
        "print(Math.add(1, 2)) # Output: 3\n",
        "print(Math.multiply(1, 2)) # Output: 2"
      ]
    },
    {
      "cell_type": "code",
      "execution_count": null,
      "metadata": {},
      "outputs": [],
      "source": []
    },
    {
      "cell_type": "code",
      "execution_count": null,
      "metadata": {},
      "outputs": [],
      "source": []
    },
    {
      "cell_type": "code",
      "execution_count": null,
      "metadata": {},
      "outputs": [],
      "source": []
    },
    {
      "cell_type": "code",
      "execution_count": null,
      "metadata": {},
      "outputs": [],
      "source": []
    }
  ],
  "metadata": {
    "kernelspec": {
      "display_name": "py-learn",
      "language": "python",
      "name": "python3"
    },
    "language_info": {
      "codemirror_mode": {
        "name": "ipython",
        "version": 3
      },
      "file_extension": ".py",
      "mimetype": "text/x-python",
      "name": "python",
      "nbconvert_exporter": "python",
      "pygments_lexer": "ipython3",
      "version": "3.12.8"
    }
  },
  "nbformat": 4,
  "nbformat_minor": 2
}
